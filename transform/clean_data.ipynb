{
 "cells": [
  {
   "cell_type": "code",
   "execution_count": 65,
   "metadata": {},
   "outputs": [],
   "source": [
    "import pandas as pd\n",
    "import numpy as np\n",
    "import re\n",
    "from datetime import datetime\n"
   ]
  },
  {
   "cell_type": "code",
   "execution_count": null,
   "metadata": {},
   "outputs": [],
   "source": [
    "def clean_price(price):\n",
    "    if pd.isna(price) or price == 'N/A':\n",
    "        return np.nan\n",
    "    value = re.sub(r'[^\\d]', '', str(price))\n",
    "    return float(value) if value else np.nan"
   ]
  },
  {
   "cell_type": "code",
   "execution_count": null,
   "metadata": {},
   "outputs": [],
   "source": [
    "def clean_area(area):\n",
    "    if pd.isna(area) or area == 'N/A':\n",
    "        return np.nan\n",
    "    match = re.search(r'(\\d+)', str(area))\n",
    "    return float(match.group(1)) if match else np.nan"
   ]
  },
  {
   "cell_type": "code",
   "execution_count": null,
   "metadata": {},
   "outputs": [],
   "source": [
    "def clean_count_values(value):\n",
    "    if pd.isna(value) or value == 'N/A' or value == 'Não Tem':\n",
    "        return np.nan\n",
    "    if '5 Ou Mais' in str(value):\n",
    "        return 5\n",
    "    match = re.search(r'(\\d+)', str(value))\n",
    "    return int(match.group(1)) if match else np.nan\n"
   ]
  },
  {
   "cell_type": "code",
   "execution_count": null,
   "metadata": {},
   "outputs": [],
   "source": [
    "def clean_date(date_str):\n",
    "    if pd.isna(date_str):\n",
    "        return np.nan\n",
    "    return pd.to_datetime(date_str).strftime('%Y-%m-%d')"
   ]
  },
  {
   "cell_type": "code",
   "execution_count": null,
   "metadata": {},
   "outputs": [],
   "source": [
    "def categorize_price(price):\n",
    "    if pd.isna(price):\n",
    "        return 'Não informado'\n",
    "    elif price < 300000:\n",
    "        return 'Econômico'\n",
    "    elif price < 750000:\n",
    "        return 'Médio'\n",
    "    elif price < 1500000:\n",
    "        return 'Alto padrão'\n",
    "    else:\n",
    "        return 'Luxo'"
   ]
  },
  {
   "cell_type": "code",
   "execution_count": null,
   "metadata": {},
   "outputs": [],
   "source": [
    "def clean_data(df):\n",
    "    # Create a copy to avoid modifying the original dataframe\n",
    "    df_clean = df.copy()\n",
    "    \n",
    "    # Remove unnecessary columns\n",
    "    columns_to_drop = ['url', 'source_file']\n",
    "    df_clean.drop(columns=columns_to_drop, inplace=True)\n",
    "    \n",
    "    # Clean price column\n",
    "    df_clean['price'] = df_clean['price'].apply(clean_price)\n",
    "    \n",
    "    # Clean area column\n",
    "    df_clean['area_util'] = df_clean['area_util'].apply(clean_area)\n",
    "    \n",
    "    # Clean count columns\n",
    "    df_clean['quartos'] = df_clean['quartos'].apply(clean_count_values)\n",
    "    df_clean['banheiros'] = df_clean['banheiros'].apply(clean_count_values)\n",
    "    df_clean['vagas'] = df_clean['vagas'].apply(clean_count_values)\n",
    "    \n",
    "    # Clean date column (remove time)\n",
    "    df_clean['scraped_date'] = df_clean['scraped_date'].apply(clean_date)\n",
    "    \n",
    "    # Add derived columns\n",
    "    df_clean['price_per_m2'] = df_clean.apply(\n",
    "        lambda x: x['price'] / x['area_util'] if pd.notna(x['price']) and pd.notna(x['area_util']) and x['area_util'] > 0 \n",
    "        else np.nan, axis=1)\n",
    "    \n",
    "    # Add price category\n",
    "    df_clean['price_category'] = df_clean['price'].apply(categorize_price)\n",
    "    \n",
    "    # Reorder columns\n",
    "    column_order = [\n",
    "        'price', 'price_category', 'price_per_m2', 'area_util',\n",
    "        'quartos', 'banheiros', 'vagas',\n",
    "        'neighborhood', 'city', 'state', 'cep',\n",
    "        'scraped_date'\n",
    "    ]\n",
    "    df_clean = df_clean[column_order]\n",
    "    \n",
    "    return df_clean"
   ]
  },
  {
   "cell_type": "code",
   "execution_count": 72,
   "metadata": {},
   "outputs": [],
   "source": [
    "df = pd.read_csv(r'C:\\Users\\berna\\etl_project\\cleaned_location_data.csv')\n",
    "df_cleaned = clean_data(df)"
   ]
  },
  {
   "cell_type": "code",
   "execution_count": 74,
   "metadata": {},
   "outputs": [
    {
     "data": {
      "text/plain": [
       "price              5941\n",
       "price_category        5\n",
       "price_per_m2      19678\n",
       "area_util          1077\n",
       "quartos               4\n",
       "banheiros             5\n",
       "vagas                 5\n",
       "neighborhood       5089\n",
       "city                491\n",
       "state                27\n",
       "cep               27949\n",
       "scraped_date          1\n",
       "dtype: int64"
      ]
     },
     "execution_count": 74,
     "metadata": {},
     "output_type": "execute_result"
    }
   ],
   "source": [
    "df_cleaned.nunique()"
   ]
  },
  {
   "cell_type": "code",
   "execution_count": 75,
   "metadata": {},
   "outputs": [],
   "source": [
    "df_cleaned.to_csv('properties_cleaned_final.csv', index=False)\n"
   ]
  }
 ],
 "metadata": {
  "kernelspec": {
   "display_name": "base",
   "language": "python",
   "name": "python3"
  },
  "language_info": {
   "codemirror_mode": {
    "name": "ipython",
    "version": 3
   },
   "file_extension": ".py",
   "mimetype": "text/x-python",
   "name": "python",
   "nbconvert_exporter": "python",
   "pygments_lexer": "ipython3",
   "version": "3.12.4"
  }
 },
 "nbformat": 4,
 "nbformat_minor": 2
}
